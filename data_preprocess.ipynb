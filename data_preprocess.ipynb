{
 "cells": [
  {
   "cell_type": "code",
   "execution_count": 10,
   "metadata": {},
   "outputs": [
    {
     "name": "stdout",
     "output_type": "stream",
     "text": [
      "[{'Name': '2015_00001.png', 'Class': '1', 'Light': '2', 'In/Out': '1', 'Train/Val/Test': '1'}, {'Name': '2015_00002.png', 'Class': '1', 'Light': '6', 'In/Out': '2', 'Train/Val/Test': '1'}, {'Name': '2015_00003.png', 'Class': '1', 'Light': '5', 'In/Out': '2', 'Train/Val/Test': '1'}, {'Name': '2015_00004.jpg', 'Class': '1', 'Light': '3', 'In/Out': '2', 'Train/Val/Test': '1'}, {'Name': '2015_00005.jpg', 'Class': '1', 'Light': '6', 'In/Out': '2', 'Train/Val/Test': '1'}, {'Name': '2015_00006.jpg', 'Class': '1', 'Light': '6', 'In/Out': '2', 'Train/Val/Test': '1'}, {'Name': '2015_00007.jpg', 'Class': '1', 'Light': '2', 'In/Out': '2', 'Train/Val/Test': '1'}, {'Name': '2015_00008.jpg', 'Class': '1', 'Light': '6', 'In/Out': '2', 'Train/Val/Test': '1'}, {'Name': '2015_00009.jpg', 'Class': '1', 'Light': '6', 'In/Out': '2', 'Train/Val/Test': '1'}, {'Name': '2015_00010.jpg', 'Class': '1', 'Light': '5', 'In/Out': '2', 'Train/Val/Test': '1'}]\n"
     ]
    }
   ],
   "source": [
    "import os\n",
    "import cv2\n",
    "def read_ground_truth(filename):\n",
    "    data = []\n",
    "    with open(filename, 'r') as f:\n",
    "        headers = f.readline().strip().split(' | ') # Get headers\n",
    "        for line in f.readlines():\n",
    "            data.append(dict(zip(headers, line.strip().split())))\n",
    "    return data \n",
    "\n",
    "data = read_ground_truth('dataset/Groundtruth/imageclasslist.txt')\n",
    "print(data[:10])\n",
    "\n"
   ]
  },
  {
   "cell_type": "code",
   "execution_count": 11,
   "metadata": {},
   "outputs": [],
   "source": [
    "classes=['Bicycle', 'Boat', 'Bottle', 'Bus', 'Car', 'Cat', 'Chair', 'Cup', 'Dog', 'Motorbike', 'People', 'Table']\n",
    "\n",
    "def split_images(data, image_folder, train_dir, val_dir, test_dir):\n",
    "    for item in data:\n",
    "        image_name = item['Name']\n",
    "        class_name = classes[int(item['Class'])-1] # Assuming 'Class' is the class identifier\n",
    "        image_path = os.path.join(image_folder, class_name, image_name)\n",
    "        if item['Train/Val/Test'] == '1':\n",
    "            dest_dir = train_dir\n",
    "        elif item['Train/Val/Test'] == '2':\n",
    "            dest_dir = val_dir\n",
    "        else:\n",
    "            dest_dir = test_dir\n",
    "        if item['Class'] == '5':\n",
    "            os.makedirs(dest_dir, exist_ok=True)  # Create directories if they don't exist\n",
    "            os.replace(image_path, os.path.join(dest_dir, image_name))\n",
    "\n",
    "image_folder = './dataset/ExDark/ExDark/'\n",
    "train_dir = './car_dataset/images/training'\n",
    "val_dir = './car_dataset/images/validation'\n",
    "test_dir = './car_dataset/images/test'\n",
    "\n",
    "split_images(data, image_folder, train_dir, val_dir, test_dir)\n"
   ]
  },
  {
   "cell_type": "code",
   "execution_count": 12,
   "metadata": {},
   "outputs": [],
   "source": [
    "import shutil\n",
    "def split_labels(data, label_folder, train_dir, val_dir, test_dir):\n",
    "    for item in data:\n",
    "        image_name = f\"{item['Name']}.txt\"\n",
    "        class_name = classes[int(item['Class'])-1] # Assuming 'Class' is the class identifier\n",
    "        label_path = os.path.join(label_folder, class_name, image_name)\n",
    "        if not os.path.exists(label_path):\n",
    "            label_path = os.path.join(label_folder, class_name, image_name.lower())\n",
    "\n",
    "        if item['Train/Val/Test'] == '1':\n",
    "            dest_dir = train_dir\n",
    "        elif item['Train/Val/Test'] == '2':\n",
    "            dest_dir = val_dir\n",
    "        else:\n",
    "            dest_dir = test_dir\n",
    "        if item['Class'] == '5':\n",
    "            os.makedirs(dest_dir, exist_ok=True)  # Create directories if they don't exist\n",
    "            shutil.copy2(label_path, os.path.join(dest_dir, image_name))\n",
    "\n",
    "label_folder = './dataset/ExDark_Annno/ExDark_Annno/'\n",
    "train_dir = 'car_dataset/labels/training'\n",
    "val_dir = 'car_dataset/labels/validation'\n",
    "test_dir = 'car_dataset/labels/test'\n",
    "split_labels(data, label_folder, train_dir, val_dir, test_dir)"
   ]
  },
  {
   "cell_type": "code",
   "execution_count": 6,
   "metadata": {},
   "outputs": [
    {
     "data": {
      "text/plain": [
       "12"
      ]
     },
     "execution_count": 6,
     "metadata": {},
     "output_type": "execute_result"
    }
   ],
   "source": [
    "len(classes)"
   ]
  },
  {
   "cell_type": "code",
   "execution_count": 13,
   "metadata": {},
   "outputs": [],
   "source": [
    "import os\n",
    "\n",
    "def rename_title(file_path):\n",
    "    base_name, _ = os.path.splitext(file_path)\n",
    "    name, _ = os.path.splitext(base_name)\n",
    "    new_file_name = name + '.txt'\n",
    "    # os.rename(file_path, new_file_path)\n",
    "    return new_file_name\n",
    "\n",
    "def rename_files(path):\n",
    "    for filename in os.listdir(path):\n",
    "        new_file_name = rename_title(filename)\n",
    "        old_path  = os.path.join(path, filename)\n",
    "        new_path = os.path.join(path, new_file_name)\n",
    "        os.rename(old_path, new_path)\n",
    "\n",
    "rename_files('./car_dataset/labels/training')\n",
    "\n",
    "rename_files('./car_dataset/labels/validation')\n",
    "\n",
    "rename_files('./car_dataset/labels/test')"
   ]
  },
  {
   "cell_type": "code",
   "execution_count": 15,
   "metadata": {},
   "outputs": [
    {
     "name": "stdout",
     "output_type": "stream",
     "text": [
      "0\n"
     ]
    }
   ],
   "source": [
    "import os\n",
    "\n",
    "def count_png(images_folder, labels_folder):\n",
    "  count = 0\n",
    "  for filename in os.listdir(images_folder):\n",
    "    if filename.endswith('.png'):\n",
    "      image_name = filename.split('.')[0]\n",
    "      label = image_name + '.txt'\n",
    "      label_path = os.path.join(labels_folder, label)\n",
    "      image_path = os.path.join(images_folder, filename)\n",
    "      os.remove(label_path)\n",
    "      os.remove(image_path)\n",
    "      # print(image_path)\n",
    "      # print(label_path)\n",
    "      count += 1\n",
    "  return count\n",
    "\n",
    "a = count_png(\"car_dataset/images/training\",\"car_dataset/labels/training\" )\n",
    "b = count_png(\"car_dataset/images/validation\",\"car_dataset/labels/validation\" )\n",
    "c = count_png(\"car_dataset/images/test\",\"car_dataset/labels/test\" )\n",
    "\n",
    "print(a)"
   ]
  }
 ],
 "metadata": {
  "kernelspec": {
   "display_name": "pytorch_evn",
   "language": "python",
   "name": "python3"
  },
  "language_info": {
   "codemirror_mode": {
    "name": "ipython",
    "version": 3
   },
   "file_extension": ".py",
   "mimetype": "text/x-python",
   "name": "python",
   "nbconvert_exporter": "python",
   "pygments_lexer": "ipython3",
   "version": "3.10.13"
  }
 },
 "nbformat": 4,
 "nbformat_minor": 2
}
