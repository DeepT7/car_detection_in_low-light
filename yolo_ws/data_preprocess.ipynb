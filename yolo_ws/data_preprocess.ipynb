{
 "cells": [
  {
   "cell_type": "code",
   "execution_count": 19,
   "metadata": {},
   "outputs": [
    {
     "name": "stdout",
     "output_type": "stream",
     "text": [
      "40\n",
      "150\n"
     ]
    }
   ],
   "source": [
    "import os \n",
    "\n",
    "def count_png(images_folder, labels_folder):\n",
    "    count = 0\n",
    "    label_files = []\n",
    "    for filename in os.listdir(images_folder):\n",
    "        count += 1\n",
    "        if filename.endswith('.JPG'):\n",
    "            label_file = filename.strip('.')[0] + '.txt'\n",
    "            label_path = os.path.join(labels_folder, label_file)\n",
    "            label_files.append(label_path)\n",
    "    return label_files,count\n",
    "\n",
    "a, b = count_png(\"car_dataset/images/validation\", \"car_dataset/labels/validation\")\n",
    "print(len(a))\n",
    "print(b)"
   ]
  },
  {
   "cell_type": "code",
   "execution_count": 3,
   "metadata": {},
   "outputs": [
    {
     "name": "stdout",
     "output_type": "stream",
     "text": [
      "2015_00010.txt\n"
     ]
    }
   ],
   "source": [
    "string = '2015_00010.png'\n",
    "arr = string.split('.')\n",
    "print(arr[0]+ '.txt')"
   ]
  }
 ],
 "metadata": {
  "kernelspec": {
   "display_name": "pytorch_env",
   "language": "python",
   "name": "python3"
  },
  "language_info": {
   "codemirror_mode": {
    "name": "ipython",
    "version": 3
   },
   "file_extension": ".py",
   "mimetype": "text/x-python",
   "name": "python",
   "nbconvert_exporter": "python",
   "pygments_lexer": "ipython3",
   "version": "3.10.13"
  }
 },
 "nbformat": 4,
 "nbformat_minor": 2
}
